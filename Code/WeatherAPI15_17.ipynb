{
 "cells": [
  {
   "cell_type": "code",
   "execution_count": 21,
   "metadata": {},
   "outputs": [],
   "source": [
    "#Dependencies to Use with Code\n",
    "import pandas as pd\n",
    "import numpy as np\n",
    "import json\n",
    "import requests as req\n",
    "import requests"
   ]
  },
  {
   "cell_type": "code",
   "execution_count": 112,
   "metadata": {
    "collapsed": true
   },
   "outputs": [],
   "source": [
    "\n",
    "url = \"https://www.ncdc.noaa.gov/cdo-web/api/v2/stations?datasetid=GHCND&startdate=2015-07-01&enddate=2016-05-31&extent=40.48&extent=-74.26&extent=40.92&extent=-73.7&datatypeid=TMIN&datatypeid=TMAX&datatypeid=TAVG&datatypeid=TRCP&limit=1000&units=standard\""
   ]
  },
  {
   "cell_type": "code",
   "execution_count": 22,
   "metadata": {},
   "outputs": [
    {
     "data": {
      "text/plain": [
       "{'metadata': {'resultset': {'count': 331, 'limit': 25, 'offset': 1}},\n",
       " 'results': [{'attributes': '0,0',\n",
       "   'datatype': 'DP01',\n",
       "   'date': '2015-07-01T00:00:00',\n",
       "   'station': 'GHCND:US1NCBC0005',\n",
       "   'value': 9},\n",
       "  {'attributes': '0,0',\n",
       "   'datatype': 'DP05',\n",
       "   'date': '2015-07-01T00:00:00',\n",
       "   'station': 'GHCND:US1NCBC0005',\n",
       "   'value': 2},\n",
       "  {'attributes': '0,0',\n",
       "   'datatype': 'DP10',\n",
       "   'date': '2015-07-01T00:00:00',\n",
       "   'station': 'GHCND:US1NCBC0005',\n",
       "   'value': 2},\n",
       "  {'attributes': '0,0',\n",
       "   'datatype': 'EMXP',\n",
       "   'date': '2015-07-01T00:00:00',\n",
       "   'station': 'GHCND:US1NCBC0005',\n",
       "   'value': 315},\n",
       "  {'attributes': '0,0',\n",
       "   'datatype': 'TPCP',\n",
       "   'date': '2015-07-01T00:00:00',\n",
       "   'station': 'GHCND:US1NCBC0005',\n",
       "   'value': 1213},\n",
       "  {'attributes': '18,9',\n",
       "   'datatype': 'TSNW',\n",
       "   'date': '2015-07-01T00:00:00',\n",
       "   'station': 'GHCND:US1NCBC0005',\n",
       "   'value': 0},\n",
       "  {'attributes': '0,0',\n",
       "   'datatype': 'DP01',\n",
       "   'date': '2015-07-01T00:00:00',\n",
       "   'station': 'GHCND:US1NCBC0051',\n",
       "   'value': 6},\n",
       "  {'attributes': '0,0',\n",
       "   'datatype': 'DP05',\n",
       "   'date': '2015-07-01T00:00:00',\n",
       "   'station': 'GHCND:US1NCBC0051',\n",
       "   'value': 2},\n",
       "  {'attributes': '0,0',\n",
       "   'datatype': 'DP10',\n",
       "   'date': '2015-07-01T00:00:00',\n",
       "   'station': 'GHCND:US1NCBC0051',\n",
       "   'value': 2},\n",
       "  {'attributes': '0,0',\n",
       "   'datatype': 'EMXP',\n",
       "   'date': '2015-07-01T00:00:00',\n",
       "   'station': 'GHCND:US1NCBC0051',\n",
       "   'value': 348},\n",
       "  {'attributes': '0,0',\n",
       "   'datatype': 'MXSD',\n",
       "   'date': '2015-07-01T00:00:00',\n",
       "   'station': 'GHCND:US1NCBC0051',\n",
       "   'value': 0},\n",
       "  {'attributes': '0,0',\n",
       "   'datatype': 'TPCP',\n",
       "   'date': '2015-07-01T00:00:00',\n",
       "   'station': 'GHCND:US1NCBC0051',\n",
       "   'value': 1093},\n",
       "  {'attributes': '0,0',\n",
       "   'datatype': 'TSNW',\n",
       "   'date': '2015-07-01T00:00:00',\n",
       "   'station': 'GHCND:US1NCBC0051',\n",
       "   'value': 0},\n",
       "  {'attributes': '0,0',\n",
       "   'datatype': 'CLDD',\n",
       "   'date': '2015-07-01T00:00:00',\n",
       "   'station': 'GHCND:USW00013872',\n",
       "   'value': 2044},\n",
       "  {'attributes': '0,0',\n",
       "   'datatype': 'DP01',\n",
       "   'date': '2015-07-01T00:00:00',\n",
       "   'station': 'GHCND:USW00013872',\n",
       "   'value': 9},\n",
       "  {'attributes': '0,0',\n",
       "   'datatype': 'DP05',\n",
       "   'date': '2015-07-01T00:00:00',\n",
       "   'station': 'GHCND:USW00013872',\n",
       "   'value': 3},\n",
       "  {'attributes': '0,0',\n",
       "   'datatype': 'DP10',\n",
       "   'date': '2015-07-01T00:00:00',\n",
       "   'station': 'GHCND:USW00013872',\n",
       "   'value': 2},\n",
       "  {'attributes': '0,0',\n",
       "   'datatype': 'DT00',\n",
       "   'date': '2015-07-01T00:00:00',\n",
       "   'station': 'GHCND:USW00013872',\n",
       "   'value': 0},\n",
       "  {'attributes': '0,0',\n",
       "   'datatype': 'DT32',\n",
       "   'date': '2015-07-01T00:00:00',\n",
       "   'station': 'GHCND:USW00013872',\n",
       "   'value': 0},\n",
       "  {'attributes': '0,0',\n",
       "   'datatype': 'DT90',\n",
       "   'date': '2015-07-01T00:00:00',\n",
       "   'station': 'GHCND:USW00013872',\n",
       "   'value': 11},\n",
       "  {'attributes': '0,0',\n",
       "   'datatype': 'DX32',\n",
       "   'date': '2015-07-01T00:00:00',\n",
       "   'station': 'GHCND:USW00013872',\n",
       "   'value': 0},\n",
       "  {'attributes': '0,0',\n",
       "   'datatype': 'EMNT',\n",
       "   'date': '2015-07-01T00:00:00',\n",
       "   'station': 'GHCND:USW00013872',\n",
       "   'value': 161},\n",
       "  {'attributes': '0,0',\n",
       "   'datatype': 'EMXP',\n",
       "   'date': '2015-07-01T00:00:00',\n",
       "   'station': 'GHCND:USW00013872',\n",
       "   'value': 310},\n",
       "  {'attributes': '0,0',\n",
       "   'datatype': 'EMXT',\n",
       "   'date': '2015-07-01T00:00:00',\n",
       "   'station': 'GHCND:USW00013872',\n",
       "   'value': 344},\n",
       "  {'attributes': '0,0',\n",
       "   'datatype': 'HTDD',\n",
       "   'date': '2015-07-01T00:00:00',\n",
       "   'station': 'GHCND:USW00013872',\n",
       "   'value': 0}]}"
      ]
     },
     "execution_count": 22,
     "metadata": {},
     "output_type": "execute_result"
    }
   ],
   "source": [
    "headers = {'token': token}\n",
    "response = requests.get(url, headers = headers)\n",
    "response = response.json()\n",
    "response"
   ]
  },
  {
   "cell_type": "code",
   "execution_count": 25,
   "metadata": {},
   "outputs": [
    {
     "data": {
      "text/plain": [
       "{}"
      ]
     },
     "execution_count": 25,
     "metadata": {},
     "output_type": "execute_result"
    }
   ],
   "source": [
    "url =\"http://www.ncdc.noaa.gov/cdo-web/api/v2/data?datasetid=GHCNDMS&locationid=ZIP:&startdate=2015-07-01&enddate=2017-05-31\"\n",
    "#url =\"http://www.ncdc.noaa.gov/cdo-web/api/v2/data?datasetid=GHCNDMS&locationid=ZIP:28801&startdate=2015-07-01&enddate=2017-05-31\"\n",
    "headers = {'token': 'GSFolnkSYeVyQXvKRaGLexSAkndVOtwv'}\n",
    "response = requests.get(url, headers = headers)\n",
    "response = response.json()\n",
    "response\n",
    "\n"
   ]
  },
  {
   "cell_type": "code",
   "execution_count": null,
   "metadata": {
    "collapsed": true
   },
   "outputs": [],
   "source": []
  }
 ],
 "metadata": {
  "kernelspec": {
   "display_name": "Python [default]",
   "language": "python",
   "name": "python3"
  },
  "language_info": {
   "codemirror_mode": {
    "name": "ipython",
    "version": 3
   },
   "file_extension": ".py",
   "mimetype": "text/x-python",
   "name": "python",
   "nbconvert_exporter": "python",
   "pygments_lexer": "ipython3",
   "version": "3.6.3"
  }
 },
 "nbformat": 4,
 "nbformat_minor": 2
}
